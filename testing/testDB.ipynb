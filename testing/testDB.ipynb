{
 "cells": [
  {
   "cell_type": "code",
   "execution_count": 1,
   "metadata": {},
   "outputs": [
    {
     "name": "stderr",
     "output_type": "stream",
     "text": [
      "/var/folders/bx/0ltqbd_9301dnzlwkd_qvdv80000gn/T/ipykernel_31456/2767960026.py:13: FutureWarning: The 'delim_whitespace' keyword in pd.read_csv is deprecated and will be removed in a future version. Use ``sep='\\s+'`` instead\n",
      "  meteo_data = pd.read_csv(standardData, delim_whitespace=True, comment='#', names=col_names)\n",
      "/var/folders/bx/0ltqbd_9301dnzlwkd_qvdv80000gn/T/ipykernel_31456/2767960026.py:21: FutureWarning: The 'delim_whitespace' keyword in pd.read_csv is deprecated and will be removed in a future version. Use ``sep='\\s+'`` instead\n",
      "  spec_wave_data = pd.read_csv(waveData, delim_whitespace=True, comment='#', names=col_names)\n"
     ]
    }
   ],
   "source": [
    "\"\"\"\n",
    "To get real time data from noaa api and put it into csvs NEED TO CHANGE TO 51101\n",
    "\"\"\"\n",
    "\n",
    "import wget\n",
    "import pandas as pd\n",
    "urlStandardData= 'https://www.ndbc.noaa.gov/data/realtime2/51101.txt'\n",
    "urlWaveData = 'https://www.ndbc.noaa.gov/data/realtime2/51101.spec'\n",
    "\n",
    "#For Standard wave Data\n",
    "standardData = wget.download(urlStandardData)\n",
    "col_names = ['YY', 'MM', 'DD', 'hh', 'mm', 'WDIR', 'WSPD', 'GST', 'WVHT', 'DPD', 'APD', 'MWD', 'PRES', 'ATMP', 'WTMP', 'DEWP', 'VIS', 'PTDY', 'TIDE']\n",
    "meteo_data = pd.read_csv(standardData, delim_whitespace=True, comment='#', names=col_names)\n",
    "meteo_data.to_csv('standard_meteorological_data51101.csv', index=False)\n",
    "\n",
    "\n",
    "\n",
    "#For Spectral Wave Data\n",
    "waveData = wget.download(urlWaveData)\n",
    "col_names = ['YY', 'MM', 'DD', 'hh', 'mm', 'WVHT', 'SwH', 'SwP', 'WWH', 'WWP', 'SwD', 'WWD', 'Steepness', 'APD', 'MWD']\n",
    "spec_wave_data = pd.read_csv(waveData, delim_whitespace=True, comment='#', names=col_names)\n",
    "spec_wave_data.to_csv('spec_wave_data51101.csv', index=False)"
   ]
  },
  {
   "cell_type": "code",
   "execution_count": 2,
   "metadata": {},
   "outputs": [
    {
     "name": "stderr",
     "output_type": "stream",
     "text": [
      "/var/folders/bx/0ltqbd_9301dnzlwkd_qvdv80000gn/T/ipykernel_31456/109954113.py:24: FutureWarning: Downcasting behavior in `replace` is deprecated and will be removed in a future version. To retain the old behavior, explicitly call `result.infer_objects(copy=False)`. To opt-in to the future behavior, set `pd.set_option('future.no_silent_downcasting', True)`\n",
      "  mdata.replace('MM', np.nan, inplace=True)\n",
      "/var/folders/bx/0ltqbd_9301dnzlwkd_qvdv80000gn/T/ipykernel_31456/109954113.py:39: FutureWarning: Series.fillna with 'method' is deprecated and will raise in a future version. Use obj.ffill() or obj.bfill() instead.\n",
      "  mdata['DPD'] = mdata['DPD'].fillna(method='bfill')\n"
     ]
    }
   ],
   "source": [
    "\"\"\"\n",
    "Data preprocessing and combining all data into one csv w matching wave information and meteorological data\n",
    "\"\"\"\n",
    "\n",
    "import pandas as pd\n",
    "import numpy as np\n",
    "\n",
    "# Read the data\n",
    "sdata = pd.read_csv('spec_wave_data51101.csv')\n",
    "mdata = pd.read_csv('standard_meteorological_data51101.csv')\n",
    "\n",
    "# Convert the date-time columns into a single 'datetime' column\n",
    "sdata['datetime'] = pd.to_datetime(sdata[['YY', 'MM', 'DD', 'hh', 'mm']].rename(columns={'YY': 'year', 'MM': 'month', 'DD': 'day', 'hh': 'hour', 'mm': 'minute'}))\n",
    "mdata['datetime'] = pd.to_datetime(mdata[['YY', 'MM', 'DD', 'hh', 'mm']].rename(columns={'YY': 'year', 'MM': 'month', 'DD': 'day', 'hh': 'hour', 'mm': 'minute'}))\n",
    "\n",
    "# Drop the individual date and time columns now that 'datetime' is created\n",
    "# Drop the matching columns and unnecessary columns from the meteorlogical dataset\n",
    "sdata.drop(['YY', 'MM', 'DD', 'hh', 'mm'], axis=1, inplace=True)\n",
    "mdata.drop(['YY', 'MM', 'DD', 'hh', 'mm', 'WVHT','APD','MWD','TIDE','PTDY','VIS'], axis=1, inplace=True)\n",
    "\n",
    "cols_to_convert = ['WDIR', 'WSPD', 'GST', 'DPD', 'PRES', 'ATMP', 'WTMP', 'DEWP']\n",
    "\n",
    "\n",
    "mdata.replace('MM', np.nan, inplace=True)\n",
    "sdata.replace('MM', np.nan, inplace=True)\n",
    "\n",
    "# Convert columns to numeric where necessary in both datasets\n",
    "sdata_numeric_cols = ['WVHT', 'SwH', 'SwP', 'WWH', 'WWP','APD', 'MWD']\n",
    "#WVHT,SwH,SwP,WWH,WWP,SwD,WWD,Steepness,APD,MWD\n",
    "mdata_numeric_cols = ['WDIR', 'WSPD', 'GST', 'DPD', 'PRES', 'ATMP', 'WTMP', 'DEWP']\n",
    "\n",
    "# Apply numeric conversion to the necessary columns, coercing errors to NaN\n",
    "sdata[sdata_numeric_cols] = sdata[sdata_numeric_cols].apply(pd.to_numeric, errors='coerce')\n",
    "mdata[mdata_numeric_cols] = mdata[mdata_numeric_cols].apply(pd.to_numeric, errors='coerce')\n",
    "\n",
    "# Interpolate missing values (linear interpolation) for Dominant Wave Period \n",
    "mdata['DPD'] = mdata['DPD'].interpolate(method='linear')\n",
    "# Forward fill to handle missing values at the start\n",
    "mdata['DPD'] = mdata['DPD'].fillna(method='bfill')\n",
    "\n",
    "# Merge the two datasets based on the 'datetime' column, keeping all rows from spec_wave_data\n",
    "combined_data = pd.merge(sdata, mdata, on='datetime', how='left')\n",
    "\n",
    "#Saved Data\n",
    "combined_data.to_csv('51101combined_data.csv', index=False)\n",
    "\n",
    "\n"
   ]
  }
 ],
 "metadata": {
  "interpreter": {
   "hash": "aee8b7b246df8f9039afb4144a1f6fd8d2ca17a180786b69acc140d282b71a49"
  },
  "kernelspec": {
   "display_name": "Python 3.12.7 64-bit",
   "language": "python",
   "name": "python3"
  },
  "language_info": {
   "codemirror_mode": {
    "name": "ipython",
    "version": 3
   },
   "file_extension": ".py",
   "mimetype": "text/x-python",
   "name": "python",
   "nbconvert_exporter": "python",
   "pygments_lexer": "ipython3",
   "version": "3.12.7"
  },
  "orig_nbformat": 4
 },
 "nbformat": 4,
 "nbformat_minor": 2
}
